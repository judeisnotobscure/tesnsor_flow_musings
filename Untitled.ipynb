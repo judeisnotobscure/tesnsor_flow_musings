{
 "cells": [
  {
   "cell_type": "code",
   "execution_count": 109,
   "metadata": {},
   "outputs": [],
   "source": [
    "### Recurrent Neural Network LSTM implementation\n",
    "import numpy as np\n",
    "import matplotlib.pyplot as plt\n",
    "import pandas as pd\n",
    "import pandas_datareader as web\n",
    "import datetime as dt\n",
    "\n",
    "from sklearn.preprocessing import MinMaxScaler\n",
    "from tensorflow.keras.models import Sequential\n",
    "from tensorflow.keras.layers import Dense, Dropout, LSTM"
   ]
  },
  {
   "cell_type": "code",
   "execution_count": 126,
   "metadata": {},
   "outputs": [
    {
     "name": "stdout",
     "output_type": "stream",
     "text": [
      "Epoch 1/25\n",
      "87/87 [==============================] - 9s 98ms/step - loss: 0.0169\n",
      "Epoch 2/25\n",
      "87/87 [==============================] - 7s 82ms/step - loss: 0.0112\n",
      "Epoch 3/25\n",
      "87/87 [==============================] - 7s 82ms/step - loss: 0.0104\n",
      "Epoch 4/25\n",
      "87/87 [==============================] - 7s 82ms/step - loss: 0.0095\n",
      "Epoch 5/25\n",
      "87/87 [==============================] - 7s 82ms/step - loss: 0.0089\n",
      "Epoch 6/25\n",
      "87/87 [==============================] - 7s 82ms/step - loss: 0.0091\n",
      "Epoch 7/25\n",
      "87/87 [==============================] - 7s 81ms/step - loss: 0.0084\n",
      "Epoch 8/25\n",
      "87/87 [==============================] - 7s 81ms/step - loss: 0.0077\n",
      "Epoch 9/25\n",
      "87/87 [==============================] - 7s 81ms/step - loss: 0.0074\n",
      "Epoch 10/25\n",
      "87/87 [==============================] - 7s 80ms/step - loss: 0.0068\n",
      "Epoch 11/25\n",
      "87/87 [==============================] - 7s 80ms/step - loss: 0.0066\n",
      "Epoch 12/25\n",
      "87/87 [==============================] - 7s 80ms/step - loss: 0.0065\n",
      "Epoch 13/25\n",
      "87/87 [==============================] - 7s 81ms/step - loss: 0.0064\n",
      "Epoch 14/25\n",
      "87/87 [==============================] - 7s 81ms/step - loss: 0.0064\n",
      "Epoch 15/25\n",
      "87/87 [==============================] - 7s 83ms/step - loss: 0.0060\n",
      "Epoch 16/25\n",
      "87/87 [==============================] - 7s 85ms/step - loss: 0.0059\n",
      "Epoch 17/25\n",
      "87/87 [==============================] - 8s 94ms/step - loss: 0.0058\n",
      "Epoch 18/25\n",
      "87/87 [==============================] - 8s 87ms/step - loss: 0.0059\n",
      "Epoch 19/25\n",
      "87/87 [==============================] - 7s 84ms/step - loss: 0.0057\n",
      "Epoch 20/25\n",
      "87/87 [==============================] - 7s 84ms/step - loss: 0.0056\n",
      "Epoch 21/25\n",
      "87/87 [==============================] - 7s 83ms/step - loss: 0.0055\n",
      "Epoch 22/25\n",
      "87/87 [==============================] - 7s 83ms/step - loss: 0.0062\n",
      "Epoch 23/25\n",
      "87/87 [==============================] - 7s 84ms/step - loss: 0.0058\n",
      "Epoch 24/25\n",
      "87/87 [==============================] - 7s 83ms/step - loss: 0.0054\n",
      "Epoch 25/25\n",
      "87/87 [==============================] - 7s 83ms/step - loss: 0.0054\n"
     ]
    },
    {
     "data": {
      "text/plain": [
       "<tensorflow.python.keras.callbacks.History at 0x7fc716ec3b20>"
      ]
     },
     "execution_count": 126,
     "metadata": {},
     "output_type": "execute_result"
    }
   ],
   "source": [
    "# Load Data\n",
    "\n",
    "company = \"BTC-USD\"\n",
    "\n",
    "\n",
    "start = dt.datetime(2012,1,1)\n",
    "end = dt.datetime(2020,1,1)\n",
    "\n",
    "#Make training and test data sets\n",
    "data = pd.read_csv(r'./BTC-USD.csv')\n",
    "data=data.dropna() #drop nan values\n",
    "data[\"Date\"]=pd.to_datetime(data['Date'])\n",
    "test_data= data[data[\"Date\"]>dt.datetime(2022,7,1)]\n",
    "data=data[data[\"Date\"]<dt.datetime(2022,7,1)]\n",
    "#prepare data\n",
    "\n",
    "scaler = MinMaxScaler(feature_range =(0,1))\n",
    "scaled_data = scaler.fit_transform(data['Close'].values.reshape(-1,1))\n",
    "\n",
    "prediction_days= 45\n",
    "\n",
    "x_train = []\n",
    "y_train = []\n",
    "\n",
    "for x in range(prediction_days, len(scaled_data)):\n",
    "    x_train.append(scaled_data[x-prediction_days:x, 0])\n",
    "    y_train.append(scaled_data[x,0])\n",
    "\n",
    "# Convert training sets into numpy arrays\n",
    "x_train, y_train= np.array(x_train), np.array(y_train)\n",
    "x_train = np.reshape(x_train, (x_train.shape[0], x_train.shape[1], 1))\n",
    "\n",
    "# Build the model\n",
    "model = Sequential()\n",
    "\n",
    "model.add(LSTM(units=50, return_sequences=True, input_shape=(x_train.shape[1],1)))\n",
    "model.add(Dropout(0.2))\n",
    "model.add(LSTM(units=50, return_sequences=True))\n",
    "model.add(Dropout(0.2))\n",
    "model.add(LSTM(units=50, return_sequences=True))\n",
    "model.add(Dropout(0.2))\n",
    "model.add(Dense(units=1)) # Prediction of next close price\n",
    "\n",
    "model.compile(optimizer='adam', loss='mean_squared_error')\n",
    "model.fit(x_train, y_train, epochs=25, batch_size=32)\n",
    "\n",
    "\n",
    "\n"
   ]
  },
  {
   "cell_type": "code",
   "execution_count": 127,
   "metadata": {},
   "outputs": [],
   "source": [
    "\"\"\" Test the Model Accuracy on exiting Data\"\"\"\n",
    "\n",
    "# Load Test data\n",
    "\n",
    "actual_prices = test_data['Close'].values\n",
    "\n",
    "total_dataset= pd.concat((data['Close'], test_data['Close']), axis=0)\n",
    "\n",
    "model_inputs = total_dataset[len(total_dataset)- len(test_data)- prediction_days:].values\n",
    "model_inputs = model_inputs.reshape(-1,1)\n",
    "model_inputs = scaler.transform(model_inputs)\n"
   ]
  },
  {
   "cell_type": "code",
   "execution_count": 128,
   "metadata": {},
   "outputs": [],
   "source": [
    "# Make predictions on test data\n",
    "\n",
    "x_test=[]\n",
    "\n",
    "for x in range(prediction_days, len(model_inputs)):\n",
    "    x_test.append(model_inputs[x-prediction_days:x, 0])\n",
    "\n"
   ]
  },
  {
   "cell_type": "code",
   "execution_count": 129,
   "metadata": {},
   "outputs": [],
   "source": [
    "x_test = np.array(x_test)\n",
    "x_test = np.reshape(x_test, (x_test.shape[0], x_test.shape[1],1))\n",
    "\n"
   ]
  },
  {
   "cell_type": "code",
   "execution_count": 130,
   "metadata": {},
   "outputs": [],
   "source": [
    "\n",
    "predicted_prices = model.predict(x_test)\n",
    "predicted_prices = scaler.inverse_transform(predicted_prices[0])\n",
    "\n"
   ]
  },
  {
   "cell_type": "code",
   "execution_count": 143,
   "metadata": {},
   "outputs": [
    {
     "data": {
      "image/png": "[encoded data removed]",
      "text/plain": [
       "<Figure size 432x288 with 1 Axes>"
      ]
     },
     "metadata": {
      "needs_background": "light"
     },
     "output_type": "display_data"
    }
   ],
   "source": [
    "# plot the test predictions\n",
    "plt.plot(actual_prices, color = \"black\" , label= \"closing price\")\n",
    "plt.plot(predicted_prices, color= \"green\", label= \"closing price\")\n",
    "plt.title(f'{company} closing price')\n",
    "plt.xlabel(\"Time-Days\")\n",
    "plt.ylabel(f'{company} share Price')\n",
    "plt.legend()\n",
    "plt.show()\n"
   ]
  },
  {
   "cell_type": "code",
   "execution_count": 142,
   "metadata": {},
   "outputs": [
    {
     "name": "stdout",
     "output_type": "stream",
     "text": [
      "[[18992.709]\n",
      " [26986.379]\n",
      " [29787.764]\n",
      " [31597.664]\n",
      " [33337.145]\n",
      " [34385.91 ]\n",
      " [35193.297]\n",
      " [35718.5  ]\n",
      " [36950.02 ]]\n"
     ]
    }
   ],
   "source": [
    "\n",
    "#predict next day\n",
    "\n",
    "real_data= [model_inputs[len(model_inputs)+1 - prediction_days: len(model_inputs)+ 1,0]]\n",
    "\n",
    "real_data= np.array(real_data)\n",
    "real_data= np.reshape(real_data, (real_data.shape[0], real_data.shape[1], 1))\n",
    "\n",
    "prediction = model.predict(real_data)\n",
    "prediction = scaler.inverse_transform(prediction[0])\n",
    "\n",
    "# print(f'Prediction for {company} tommorow is: ${prediction}')\n",
    "print(prediction[0:9])"
   ]
  },
  {
   "cell_type": "code",
   "execution_count": 68,
   "metadata": {},
   "outputs": [
    {
     "name": "stdout",
     "output_type": "stream",
     "text": [
      "[[0.00414359]\n",
      " [0.00365546]\n",
      " [0.00321557]\n",
      " [0.00342492]\n",
      " [0.0032753 ]\n",
      " [0.00332473]\n",
      " [0.0038239 ]\n",
      " [0.00363714]\n",
      " [0.00346454]\n",
      " [0.00335845]]\n"
     ]
    }
   ],
   "source": [
    "\n"
   ]
  },
  {
   "cell_type": "code",
   "execution_count": null,
   "metadata": {},
   "outputs": [],
   "source": []
  }
 ],
 "metadata": {
  "kernelspec": {
   "display_name": "Python 3",
   "language": "python",
   "name": "python3"
  },
  "language_info": {
   "codemirror_mode": {
    "name": "ipython",
    "version": 3
   },
   "file_extension": ".py",
   "mimetype": "text/x-python",
   "name": "python",
   "nbconvert_exporter": "python",
   "pygments_lexer": "ipython3",
   "version": "3.8.3"
  }
 },
 "nbformat": 4,
 "nbformat_minor": 4
}
